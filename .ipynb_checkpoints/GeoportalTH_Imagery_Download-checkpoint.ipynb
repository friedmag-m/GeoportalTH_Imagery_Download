{
 "cells": [
  {
   "cell_type": "code",
   "execution_count": 1,
   "metadata": {},
   "outputs": [],
   "source": [
    "########################################################\n",
    "# GEO419 Projekt Nr. 2\n",
    "# Download of Imagery from the Thuringian Geoportal\n",
    "# Marcel Felix & Friederike Metz\n",
    "# from Sept. 2021 to Feb. 2022\n",
    "########################################################"
   ]
  },
  {
   "cell_type": "code",
   "execution_count": 2,
   "metadata": {},
   "outputs": [],
   "source": [
    "### Download URL original\n",
    "## Höhendaten:\n",
    "# https://geoportal.geoportal-th.de/hoehendaten/DGM/dgm_2014-2019/dgm1_682_5644_1_th_2014-2019.zip?type=dhm1&id=16541&log=682_5644_1x1km&url=%2Fhoehendaten%2FDGM%2Fdgm_2014-2019%2Fdgm1_682_5644_1_th_2014-2019.zip\n",
    "## Orthophotos:\n",
    "# https://geoportal.geoportal-th.de/gaialight-th/_apps/dladownload/download.php?type=op&id=255133&log=202005-32682_5644\n",
    "\n",
    "### Gekürzt\n",
    "## Höhendaten:\n",
    "# DGM\n",
    "# https://geoportal.geoportal-th.de/hoehendaten/DGM/dgm_2014-2019/dgm1_682_5644_1_th_2014-2019.zip\n",
    "# DOM\n",
    "# https://geoportal.geoportal-th.de/hoehendaten/DOM/dom_2014-2019/dom1_682_5644_1_th_2014-2019.zip\n",
    "# LAS\n",
    "# https://geoportal.geoportal-th.de/hoehendaten/LAS/las_2014-2019/las_682_5644_1_th_2014-2019.zip+\n",
    "## Orthophotos:\n",
    "# https://geoportal.geoportal-th.de/gaialight-th/_apps/dladownload/download.php?type=op&id=255133\n",
    "# filename: dop20rgbi_32_641_5656_1_th_2020.zip"
   ]
  },
  {
   "cell_type": "code",
   "execution_count": 3,
   "metadata": {},
   "outputs": [],
   "source": [
    "### ID Kachelbenennung\n",
    "## Höhendaten: \n",
    "# 682_5644 -> 682 steht für die West-Ost-Ausrichtung (nach Osten aufsteigend)\n",
    "# 682_5644 -> 5644 steht für die Nord-Süd-Ausrichtung (nach Norden aufsteigend)\n",
    "\n",
    "# Die Kacheln (Position) für Höhendaten und Orthophotos sind identisch\n",
    "# ...das bedeutet man kann identifizieren, welche Kacheln der Orthophotos gebraucht werden \n",
    "# ...ohne ihre ID vorher zu kennen. Stattdessen muss man sie berechnen:\n",
    "\n",
    "## Orthophotos:\n",
    "# 255133 -> 255 steht für ???\n",
    "# 255133 -> 133 steht für ???"
   ]
  },
  {
   "cell_type": "code",
   "execution_count": 1,
   "metadata": {},
   "outputs": [],
   "source": [
    "### Importblock\n",
    "import os\n",
    "#import gdal\n",
    "import re\n",
    "from osgeo import ogr,osr,gdal\n",
    "import geopandas\n",
    "import shapely\n",
    "import zipfile\n",
    "from shapely.geometry import Polygon, LineString, Point\n",
    "import requests\n",
    "import ipyleaflet"
   ]
  },
  {
   "cell_type": "code",
   "execution_count": 2,
   "metadata": {},
   "outputs": [],
   "source": [
    "\n",
    "### User's choices ###############\n",
    "##################################\n"
   ]
  },
  {
   "cell_type": "code",
   "execution_count": null,
   "metadata": {},
   "outputs": [],
   "source": [
    "# 1. Please select your shapefile here\n",
    "shapefile = \"F:/Marcel/Backup/Dokumente/Studium/Geoinformatik/SoSe 2021/GEO419/Abschlussaufgabe/Data/shape/shape.shp\""
   ]
  },
  {
   "cell_type": "code",
   "execution_count": null,
   "metadata": {},
   "outputs": [],
   "source": [
    "# 2. Please choose your dem-years (2010-2013 / 2014-2019 / 2020-2025)\n",
    "dem_year = \"2014-2019\"\n",
    "\n",
    "if dem_year == \"2010-2013\":\n",
    "    request = \"https://geoportal.geoportal-th.de/hoehendaten/Uebersichten/Stand_2010-2013.zip\"\n",
    "if dem_year == \"2014-2019\":\n",
    "    request = \"https://geoportal.geoportal-th.de/hoehendaten/Uebersichten/Stand_2014-2019.zip\"\n",
    "if dem_year == \"2020-2025\":\n",
    "    request = \"https://geoportal.geoportal-th.de/hoehendaten/Uebersichten/Stand_2020-2025.zip\"\n",
    "    # ^These are the download-links for the dem tile polygons"
   ]
  },
  {
   "cell_type": "code",
   "execution_count": null,
   "metadata": {},
   "outputs": [],
   "source": [
    "# Automated DOWNLOAD OF TILE POLYGONS\n",
    "if os.path.exists(\"../Data/Stand_\"+dem_year) == False:\n",
    "    os.mkdir(\"../Data/Stand_\"+dem_year)\n",
    "\n",
    "gridfile = \"../Data/Stand_\"+dem_year+\"/Stand_\"+dem_year+\".zip\"\n",
    "\n",
    "if os.path.exists(gridfile) == False:\n",
    "    grid_polygons = requests.get(request)\n",
    "    with open(gridfile, \"wb\") as file:\n",
    "            file.write(grid_polygons.content)\n",
    "\n",
    "with zipfile.ZipFile(gridfile, 'r') as zip_ref:\n",
    "    zip_ref.extractall(\"../Data/Stand_\"+dem_year)\n",
    "os.remove(gridfile)\n",
    "            "
   ]
  },
  {
   "cell_type": "code",
   "execution_count": null,
   "metadata": {},
   "outputs": [],
   "source": [
    "# 3. Please choose your desired file format (dgm / dom / las)\n",
    "dem_format = \"dgm\""
   ]
  },
  {
   "cell_type": "code",
   "execution_count": 5,
   "metadata": {},
   "outputs": [
    {
     "data": {
      "text/plain": [
       "['680_5643', '680_5644', '681_5643', '681_5644']"
      ]
     },
     "execution_count": 5,
     "metadata": {},
     "output_type": "execute_result"
    }
   ],
   "source": [
    "\n",
    "### File choices ###############\n",
    "################################\n"
   ]
  },
  {
   "cell_type": "code",
   "execution_count": null,
   "metadata": {},
   "outputs": [],
   "source": [
    "# 4. Intersection of shapefile with dem tile polygons\n",
    "polygon = geopandas.read_file(shapefile)\n",
    "if dem_year == \"2010-2013\":\n",
    "    grid_path = \"../Data/Stand_2010-2013/DGM2_2010-2013_Erfass-lt-Meta_UTM32-UTM_2014-12-10.shp\"\n",
    "elif dem_year == \"2014-2019\":\n",
    "    grid_path = \"../Data/Stand_2014-2019/DGM1_2014-2019_Erfass-lt-Meta_UTM_2020-04-20--17127.shp\"\n",
    "else:\n",
    "    grid_path = \"../Data/Stand_2020-2025/DGM1_2020-2025_Erfass-lt-Meta_UTM_2021-03--17127.shp\"\n",
    "    \n",
    "grid = geopandas.read_file(grid_path)\n",
    "\n",
    "tiles = []\n",
    "for poly in grid.iterrows():\n",
    "    geom = poly[1].geometry\n",
    "    for poly2 in polygon.iterrows():\n",
    "        geom2 = poly2[1].geometry\n",
    "        \n",
    "        if geom.overlaps(geom2) == True:\n",
    "            tiles.append(poly[1].NAME)\n"
   ]
  },
  {
   "cell_type": "code",
   "execution_count": null,
   "metadata": {},
   "outputs": [],
   "source": [
    "# 5. dem tile names\n",
    "tiles "
   ]
  },
  {
   "cell_type": "code",
   "execution_count": null,
   "metadata": {},
   "outputs": [],
   "source": [
    "# 6. Identifying op tile names\n",
    "def OP_Tilename_Finder(request:str, index:int):\n",
    "    \"\"\"Request function which returns ID and filename;\n",
    "    requires the request url and an ID to query\n",
    "    \"\"\"\n",
    "    r = requests.head(request) \n",
    "    try:\n",
    "        text = r.headers[\"Content-disposition\"]\n",
    "    except KeyError: return\n",
    "    \n",
    "    filename = text.split(\"=\")[1].replace('\"', '')\n",
    "    if \"dop\" in filename:\n",
    "        return [index, filename]\n",
    "    else: return\n",
    "\n",
    "def Start_after_Interruption(n_jobs:int = 200, end:int = 300000):\n",
    "    \"\"\"If the execution has been interrupted you can launch the process from here\n",
    "        This will read the last ID in the created list and continue from there, \n",
    "        to an end that you have to set\"\"\"\n",
    "    # location of ipynb\n",
    "    os.chdir(\"F:/Marcel/Backup/Dokumente/Studium/Geoinformatik/SoSe 2021/GEO419/Abschlussaufgabe/GeoportalTH_Imagery_Download/\")\n",
    "    \n",
    "    idfile = \"../Data/\"+\"idlist.txt\"    #created list\n",
    "    with open(idfile, \"r\") as file:\n",
    "        last = int(file.readlines()[-1].split(\",\")[0])+1 #extracts last ID and sets it +1\n",
    "    if last >= end:\n",
    "        return(\"End already reached\")\n",
    "    OP_Tilelist_Creator(n_jobs, last, end)\n",
    "        \n",
    "def OP_Tilelist_Creator(n_jobs:int = 200, start:int = 100000, end:int = 300000):\n",
    "    \"\"\"Function for complete query of all tile IDs on the server within a specified range\n",
    "    \n",
    "    Defining query parameters in function call:\n",
    "         -- n_jobs # based on empirical testing, determines the number of threads/requests \n",
    "         -- first ID\n",
    "         -- last ID\n",
    "         \"\"\"\n",
    "    # location of ipynb\n",
    "    os.chdir(\"F:/Marcel/Backup/Dokumente/Studium/Geoinformatik/SoSe 2021/GEO419/Abschlussaufgabe/GeoportalTH_Imagery_Download/\")\n",
    "    \n",
    "    #create file in advance\n",
    "    idfile = \"../Data/\"+\"idlist.txt\" #location of file to be created\n",
    "    if os.path.exists(idfile) == False:\n",
    "        with open(idfile, \"w\") as file:\n",
    "            file.write(\"id,filename\\n\")\n",
    "    \n",
    "    \n",
    "    #requesting loop\n",
    "    # end = start + n_jobs*2 # only for testing \n",
    "    for current in range(start, end, n_jobs): \n",
    "        with Parallel(n_jobs, require=\"sharedmem\", prefer=\"threads\") as parallel:\n",
    "            names_list = parallel(delayed(OP_Tilename_Finder)(\"https://geoportal.geoportal-th.de/gaialight-th/_apps/dladownload/download.php?type=op&id=\"+str(index), index) for index in range(current, current+n_jobs))\n",
    "                # will extend beyond \"end\" and secure that none are left out\n",
    "        with open(idfile, \"a+\") as file:\n",
    "            for entry in names_list:\n",
    "                if entry != None:\n",
    "                    file.write(str(entry[0]) + \",\" + entry[1] + \"\\n\")\n",
    "    return # names_list #for checking "
   ]
  },
  {
   "cell_type": "code",
   "execution_count": null,
   "metadata": {},
   "outputs": [],
   "source": [
    "# OP_Tilelist_Creator()\n",
    "# only when no list available"
   ]
  },
  {
   "cell_type": "code",
   "execution_count": null,
   "metadata": {},
   "outputs": [],
   "source": [
    "### Download request ###\n",
    "########################"
   ]
  },
  {
   "cell_type": "code",
   "execution_count": 1,
   "metadata": {
    "scrolled": true
   },
   "outputs": [
    {
     "ename": "NameError",
     "evalue": "name 'tiles' is not defined",
     "output_type": "error",
     "traceback": [
      "\u001b[1;31m---------------------------------------------------------------------------\u001b[0m",
      "\u001b[1;31mNameError\u001b[0m                                 Traceback (most recent call last)",
      "\u001b[1;32m<ipython-input-1-8d1e4c890717>\u001b[0m in \u001b[0;36m<module>\u001b[1;34m\u001b[0m\n\u001b[0;32m      1\u001b[0m \u001b[1;31m### Download request\u001b[0m\u001b[1;33m\u001b[0m\u001b[1;33m\u001b[0m\u001b[1;33m\u001b[0m\u001b[0m\n\u001b[0;32m      2\u001b[0m \u001b[1;31m# 7. Download of dem tiles\u001b[0m\u001b[1;33m\u001b[0m\u001b[1;33m\u001b[0m\u001b[1;33m\u001b[0m\u001b[0m\n\u001b[1;32m----> 3\u001b[1;33m \u001b[1;32mfor\u001b[0m \u001b[0mtile\u001b[0m \u001b[1;32min\u001b[0m \u001b[0mtiles\u001b[0m\u001b[1;33m:\u001b[0m\u001b[1;33m\u001b[0m\u001b[1;33m\u001b[0m\u001b[0m\n\u001b[0m\u001b[0;32m      4\u001b[0m     \u001b[1;31m# creating request url\u001b[0m\u001b[1;33m\u001b[0m\u001b[1;33m\u001b[0m\u001b[1;33m\u001b[0m\u001b[0m\n\u001b[0;32m      5\u001b[0m     \u001b[1;32mif\u001b[0m \u001b[0mdem_format\u001b[0m \u001b[1;33m==\u001b[0m \u001b[1;34m\"dgm\"\u001b[0m \u001b[1;32mor\u001b[0m \u001b[0mdem_format\u001b[0m \u001b[1;33m==\u001b[0m \u001b[1;34m\"dom\"\u001b[0m\u001b[1;33m:\u001b[0m\u001b[1;33m\u001b[0m\u001b[1;33m\u001b[0m\u001b[0m\n",
      "\u001b[1;31mNameError\u001b[0m: name 'tiles' is not defined"
     ]
    }
   ],
   "source": [
    "# 7. Download of dem tiles\n",
    "for tile in tiles:\n",
    "    # creating request url\n",
    "    if dem_format == \"dgm\" or dem_format == \"dom\":\n",
    "        request = \"https://geoportal.geoportal-th.de/hoehendaten/\"+dem_format.upper()+\"/\"+dem_format+\"_\"+dem_year+\"/\"+dem_format+\"1_\"+tile+\"_1_th_\"+dem_year+\".zip\"\n",
    "    elif dem_format == \"las\": \n",
    "        request = \"https://geoportal.geoportal-th.de/hoehendaten/\"+dem_format.upper()+\"/\"+dem_format+\"_\"+dem_year+\"/\"+dem_format+\"_\"+tile+\"_1_th_\"+dem_year+\".zip+\"\n",
    "    \n",
    "    dem_load = requests.get(request)\n",
    "    # download the file to data folder\n",
    "    current_dem = \"../Data/dem/\"+tile+\".zip\"\n",
    "    demzip = []\n",
    "    demzip.append(current_dem)\n",
    "    with open(current_dem, \"wb\") as file:\n",
    "        file.write(dem_load.content)\n",
    "        \n",
    "    # unzipping\n",
    "    with zipfile.ZipFile(current_dem, 'r') as zip_ref:\n",
    "        zip_ref.extractall(\"../Data/dem/\")\n"
   ]
  },
  {
   "cell_type": "code",
   "execution_count": null,
   "metadata": {},
   "outputs": [],
   "source": [
    "# 8. Download of op tiles\n"
   ]
  },
  {
   "cell_type": "code",
   "execution_count": 5,
   "metadata": {},
   "outputs": [],
   "source": [
    "### Converting XYZ to tif and Merging\n",
    "# 9. Conversion & Merge\n",
    "\n",
    "# find the xyz files\n",
    "demlist = []\n",
    "for file in os.scandir(\"../Data/dem/\"):\n",
    "    if file.name.endswith(\".xyz\"):\n",
    "        demlist.append(file.path)\n",
    "\n",
    "# convert to tif\n",
    "for xyz in demlist:\n",
    "    outname = xyz.replace(\".xyz\",\"\")\n",
    "    gdal.Translate(outname + \".tif\", xyz, outputSRS=\"EPSG:25832\")\n",
    "\n",
    "# merging\n",
    "# build virtual raster and convert to geotiff\n",
    "demlist = [file.replace(\".xyz\",\".tif\") for file in demlist]\n",
    "vrt = gdal.BuildVRT(\"../Data/dem/merged.vrt\", demlist)\n",
    "gdal.Translate(\"../Data/dem/mergedDEM2.tif\", vrt, xRes = 1, yRes = -1)\n",
    "   "
   ]
  },
  {
   "cell_type": "code",
   "execution_count": null,
   "metadata": {},
   "outputs": [],
   "source": [
    "\n",
    "### Mosaicing with custom extent ###\n",
    "####################################\n"
   ]
  },
  {
   "cell_type": "code",
   "execution_count": null,
   "metadata": {},
   "outputs": [],
   "source": [
    "# 10. clipping with shapefile\n"
   ]
  },
  {
   "cell_type": "code",
   "execution_count": 2,
   "metadata": {},
   "outputs": [
    {
     "name": "stdout",
     "output_type": "stream",
     "text": [
      "Help on function lol in module __main__:\n",
      "\n",
      "lol()\n",
      "    Diese funtkion macht Sachen\n",
      "\n"
     ]
    }
   ],
   "source": [
    "### Visualisation ###\n",
    "#####################\n"
   ]
  },
  {
   "cell_type": "code",
   "execution_count": null,
   "metadata": {},
   "outputs": [],
   "source": [
    "# 10. load open street map\n"
   ]
  },
  {
   "cell_type": "code",
   "execution_count": 18,
   "metadata": {},
   "outputs": [],
   "source": [
    "# 11. overlay mosaic"
   ]
  },
  {
   "cell_type": "code",
   "execution_count": null,
   "metadata": {},
   "outputs": [],
   "source": []
  }
 ],
 "metadata": {
  "kernelspec": {
   "display_name": "Python 3 (ipykernel)",
   "language": "python",
   "name": "python3"
  },
  "language_info": {
   "codemirror_mode": {
    "name": "ipython",
    "version": 3
   },
   "file_extension": ".py",
   "mimetype": "text/x-python",
   "name": "python",
   "nbconvert_exporter": "python",
   "pygments_lexer": "ipython3",
   "version": "3.8.12"
  }
 },
 "nbformat": 4,
 "nbformat_minor": 4
}
