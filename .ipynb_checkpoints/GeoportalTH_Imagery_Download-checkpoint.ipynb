{
 "cells": [
  {
   "cell_type": "code",
   "execution_count": 24,
   "metadata": {},
   "outputs": [],
   "source": [
    "########################################################\n",
    "# GEO419 Projekt Nr. 2\n",
    "# Download of Imagery from the Thuringian Geoportal\n",
    "# Marcel Felix & Friederike Metz\n",
    "# from Sept. 2021 to Feb. 2022\n",
    "########################################################"
   ]
  },
  {
   "cell_type": "code",
   "execution_count": 25,
   "metadata": {},
   "outputs": [],
   "source": [
    "### Download URL original\n",
    "## Höhendaten:\n",
    "# https://geoportal.geoportal-th.de/hoehendaten/DGM/dgm_2014-2019/dgm1_682_5644_1_th_2014-2019.zip?type=dhm1&id=16541&log=682_5644_1x1km&url=%2Fhoehendaten%2FDGM%2Fdgm_2014-2019%2Fdgm1_682_5644_1_th_2014-2019.zip\n",
    "## Orthophotos:\n",
    "# https://geoportal.geoportal-th.de/gaialight-th/_apps/dladownload/download.php?type=op&id=255133&log=202005-32682_5644\n",
    "\n",
    "### Gekürzt\n",
    "## Höhendaten:\n",
    "# DGM\n",
    "# https://geoportal.geoportal-th.de/hoehendaten/DGM/dgm_2014-2019/dgm1_682_5644_1_th_2014-2019.zip\n",
    "# DOM\n",
    "# https://geoportal.geoportal-th.de/hoehendaten/DOM/dom_2014-2019/dom1_682_5644_1_th_2014-2019.zip\n",
    "# LAS\n",
    "# https://geoportal.geoportal-th.de/hoehendaten/LAS/las_2014-2019/las_682_5644_1_th_2014-2019.zip+\n",
    "## Orthophotos:\n",
    "# https://geoportal.geoportal-th.de/gaialight-th/_apps/dladownload/download.php?type=op&id=255133\n",
    "# filename: dop20rgbi_32_641_5656_1_th_2020.zip"
   ]
  },
  {
   "cell_type": "code",
   "execution_count": 26,
   "metadata": {},
   "outputs": [],
   "source": [
    "### ID Kachelbenennung\n",
    "## Höhendaten: \n",
    "# 682_5644 -> 682 steht für die West-Ost-Ausrichtung (nach Osten aufsteigend)\n",
    "# 682_5644 -> 5644 steht für die Nord-Süd-Ausrichtung (nach Norden aufsteigend)\n",
    "\n",
    "# Die Kacheln (Position) für Höhendaten und Orthophotos sind identisch\n",
    "# ...das bedeutet man kann identifizieren, welche Kacheln der Orthophotos gebraucht werden \n",
    "# ...ohne ihre ID vorher zu kennen. Stattdessen muss man sie berechnen:\n",
    "\n",
    "## Orthophotos:\n",
    "# 255133 -> 255 steht für ???\n",
    "# 255133 -> 133 steht für ???"
   ]
  },
  {
   "cell_type": "code",
   "execution_count": 27,
   "metadata": {},
   "outputs": [],
   "source": [
    "### Importblock\n",
    "import os\n",
    "import gdal\n",
    "import re\n",
    "from osgeo import ogr,osr\n",
    "import geopandas\n",
    "import shapely\n",
    "import zipfile\n",
    "import spatialist\n",
    "from shapely.geometry import Polygon, LineString, Point\n",
    "import requests\n",
    "import ipyleaflet"
   ]
  },
  {
   "cell_type": "code",
   "execution_count": 28,
   "metadata": {},
   "outputs": [],
   "source": [
    "### User's choices\n",
    "# 1. Please select your shapefile here\n",
    "shapefile = \"F:/Marcel/Backup/Dokumente/Studium/Geoinformatik/SoSe 2021/GEO419/Abschlussaufgabe/Data/shape/shape.shp\"\n",
    "\n",
    "# 2. Please choose your dem-years (2010-2013 / 2014-2019 / 2020-2025)\n",
    "dem_year = \"2014-2019\"\n",
    "if dem_year == \"2010-2013\":\n",
    "    request = \"https://geoportal.geoportal-th.de/hoehendaten/Uebersichten/Stand_2010-2013.zip\"\n",
    "if dem_year == \"2014-2019\":\n",
    "    request = \"https://geoportal.geoportal-th.de/hoehendaten/Uebersichten/Stand_2014-2019.zip\"\n",
    "if dem_year == \"2020-2025\":\n",
    "    request = \"https://geoportal.geoportal-th.de/hoehendaten/Uebersichten/Stand_2020-2025.zip\"\n",
    "    # ^These are the download-links for the dem tile polygons\n",
    "\n",
    "# Automated DOWNLOAD OF TILE POLYGONS\n",
    "if os.path.exists(\"../Data/Stand_\"+dem_year) == False:\n",
    "    os.mkdir(\"../Data/Stand_\"+dem_year)\n",
    "\n",
    "gridfile = \"../Data/Stand_\"+dem_year+\"/Stand_\"+dem_year+\".zip\"\n",
    "\n",
    "if os.path.exists(gridfile) == False:\n",
    "    grid_polygons = requests.get(request)\n",
    "    with open(gridfile, \"wb\") as file:\n",
    "            file.write(grid_polygons.content)\n",
    "\n",
    "with zipfile.ZipFile(gridfile, 'r') as zip_ref:\n",
    "    zip_ref.extractall(\"../Data/Stand_\"+dem_year)\n",
    "os.remove(gridfile)\n",
    "            \n",
    "# 3. Please choose your desired file format (dgm / dom / las)\n",
    "dem_format = \"dgm\""
   ]
  },
  {
   "cell_type": "code",
   "execution_count": 29,
   "metadata": {},
   "outputs": [
    {
     "ename": "CRSError",
     "evalue": "Invalid projection: PROJCS[\"ETRS89 / UTM zone 32N\",GEOGCS[\"ETRS89\",DATUM[\"European_Terrestrial_Reference_System_1989_ensemble\",SPHEROID[\"GRS 1980\",6378137,298.257222101,AUTHORITY[\"EPSG\",\"7019\"]],AUTHORITY[\"EPSG\",\"6258\"]],PRIMEM[\"Greenwich\",0],UNIT[\"Degree\",0.0174532925199433],AUTHORITY[\"EPSG\",\"4258\"]],PROJECTION[\"Transverse_Mercator\"],PARAMETER[\"latitude_of_origin\",0],PARAMETER[\"central_meridian\",9],PARAMETER[\"scale_factor\",0.9996],PARAMETER[\"false_easting\",500000],PARAMETER[\"false_northing\",0],UNIT[\"metre\",1,AUTHORITY[\"EPSG\",\"9001\"]],AXIS[\"Easting\",EAST],AXIS[\"Northing\",NORTH]]: (Internal Proj Error: proj_create: SQLite error on SELECT name, ellipsoid_auth_name, ellipsoid_code, prime_meridian_auth_name, prime_meridian_code, area_of_use_auth_name, area_of_use_code, deprecated FROM geodetic_datum WHERE auth_name = ? AND code = ?: no such column: area_of_use_auth_name)",
     "output_type": "error",
     "traceback": [
      "\u001b[1;31m---------------------------------------------------------------------------\u001b[0m",
      "\u001b[1;31mCRSError\u001b[0m                                  Traceback (most recent call last)",
      "\u001b[1;32m<ipython-input-29-54cc2476c70d>\u001b[0m in \u001b[0;36m<module>\u001b[1;34m\u001b[0m\n\u001b[0;32m      1\u001b[0m \u001b[1;31m### File choices\u001b[0m\u001b[1;33m\u001b[0m\u001b[1;33m\u001b[0m\u001b[1;33m\u001b[0m\u001b[0m\n\u001b[0;32m      2\u001b[0m \u001b[1;31m# 4. Intersection of shapefile with dem tile polygons\u001b[0m\u001b[1;33m\u001b[0m\u001b[1;33m\u001b[0m\u001b[1;33m\u001b[0m\u001b[0m\n\u001b[1;32m----> 3\u001b[1;33m \u001b[0mpolygon\u001b[0m \u001b[1;33m=\u001b[0m \u001b[0mgeopandas\u001b[0m\u001b[1;33m.\u001b[0m\u001b[0mread_file\u001b[0m\u001b[1;33m(\u001b[0m\u001b[0mshapefile\u001b[0m\u001b[1;33m)\u001b[0m\u001b[1;33m\u001b[0m\u001b[1;33m\u001b[0m\u001b[0m\n\u001b[0m\u001b[0;32m      4\u001b[0m \u001b[1;32mif\u001b[0m \u001b[0mdem_year\u001b[0m \u001b[1;33m==\u001b[0m \u001b[1;34m\"2010-2013\"\u001b[0m\u001b[1;33m:\u001b[0m\u001b[1;33m\u001b[0m\u001b[1;33m\u001b[0m\u001b[0m\n\u001b[0;32m      5\u001b[0m     \u001b[0mgrid_path\u001b[0m \u001b[1;33m=\u001b[0m \u001b[1;34m\"../Data/Stand_2010-2013/DGM2_2010-2013_Erfass-lt-Meta_UTM32-UTM_2014-12-10.shp\"\u001b[0m\u001b[1;33m\u001b[0m\u001b[1;33m\u001b[0m\u001b[0m\n",
      "\u001b[1;32m~\\.conda\\envs\\geo419\\lib\\site-packages\\geopandas\\io\\file.py\u001b[0m in \u001b[0;36m_read_file\u001b[1;34m(filename, bbox, mask, rows, **kwargs)\u001b[0m\n\u001b[0;32m    137\u001b[0m                 )\n\u001b[0;32m    138\u001b[0m \u001b[1;33m\u001b[0m\u001b[0m\n\u001b[1;32m--> 139\u001b[1;33m             return GeoDataFrame.from_features(\n\u001b[0m\u001b[0;32m    140\u001b[0m                 \u001b[0mf_filt\u001b[0m\u001b[1;33m,\u001b[0m \u001b[0mcrs\u001b[0m\u001b[1;33m=\u001b[0m\u001b[0mcrs\u001b[0m\u001b[1;33m,\u001b[0m \u001b[0mcolumns\u001b[0m\u001b[1;33m=\u001b[0m\u001b[0mcolumns\u001b[0m \u001b[1;33m+\u001b[0m \u001b[1;33m[\u001b[0m\u001b[1;34m\"geometry\"\u001b[0m\u001b[1;33m]\u001b[0m\u001b[1;33m\u001b[0m\u001b[1;33m\u001b[0m\u001b[0m\n\u001b[0;32m    141\u001b[0m             )\n",
      "\u001b[1;32m~\\.conda\\envs\\geo419\\lib\\site-packages\\geopandas\\geodataframe.py\u001b[0m in \u001b[0;36mfrom_features\u001b[1;34m(cls, features, crs, columns)\u001b[0m\n\u001b[0;32m    430\u001b[0m             \u001b[0mrow\u001b[0m\u001b[1;33m.\u001b[0m\u001b[0mupdate\u001b[0m\u001b[1;33m(\u001b[0m\u001b[0mfeature\u001b[0m\u001b[1;33m[\u001b[0m\u001b[1;34m\"properties\"\u001b[0m\u001b[1;33m]\u001b[0m\u001b[1;33m)\u001b[0m\u001b[1;33m\u001b[0m\u001b[1;33m\u001b[0m\u001b[0m\n\u001b[0;32m    431\u001b[0m             \u001b[0mrows\u001b[0m\u001b[1;33m.\u001b[0m\u001b[0mappend\u001b[0m\u001b[1;33m(\u001b[0m\u001b[0mrow\u001b[0m\u001b[1;33m)\u001b[0m\u001b[1;33m\u001b[0m\u001b[1;33m\u001b[0m\u001b[0m\n\u001b[1;32m--> 432\u001b[1;33m         \u001b[1;32mreturn\u001b[0m \u001b[0mGeoDataFrame\u001b[0m\u001b[1;33m(\u001b[0m\u001b[0mrows\u001b[0m\u001b[1;33m,\u001b[0m \u001b[0mcolumns\u001b[0m\u001b[1;33m=\u001b[0m\u001b[0mcolumns\u001b[0m\u001b[1;33m,\u001b[0m \u001b[0mcrs\u001b[0m\u001b[1;33m=\u001b[0m\u001b[0mcrs\u001b[0m\u001b[1;33m)\u001b[0m\u001b[1;33m\u001b[0m\u001b[1;33m\u001b[0m\u001b[0m\n\u001b[0m\u001b[0;32m    433\u001b[0m \u001b[1;33m\u001b[0m\u001b[0m\n\u001b[0;32m    434\u001b[0m     \u001b[1;33m@\u001b[0m\u001b[0mclassmethod\u001b[0m\u001b[1;33m\u001b[0m\u001b[1;33m\u001b[0m\u001b[0m\n",
      "\u001b[1;32m~\\.conda\\envs\\geo419\\lib\\site-packages\\geopandas\\geodataframe.py\u001b[0m in \u001b[0;36m__init__\u001b[1;34m(self, *args, **kwargs)\u001b[0m\n\u001b[0;32m    120\u001b[0m                     )\n\u001b[0;32m    121\u001b[0m                     \u001b[1;31m# TODO: raise error in 0.9 or 0.10.\u001b[0m\u001b[1;33m\u001b[0m\u001b[1;33m\u001b[0m\u001b[1;33m\u001b[0m\u001b[0m\n\u001b[1;32m--> 122\u001b[1;33m                 \u001b[0mself\u001b[0m\u001b[1;33m[\u001b[0m\u001b[1;34m\"geometry\"\u001b[0m\u001b[1;33m]\u001b[0m \u001b[1;33m=\u001b[0m \u001b[0m_ensure_geometry\u001b[0m\u001b[1;33m(\u001b[0m\u001b[0mself\u001b[0m\u001b[1;33m[\u001b[0m\u001b[1;34m\"geometry\"\u001b[0m\u001b[1;33m]\u001b[0m\u001b[1;33m.\u001b[0m\u001b[0mvalues\u001b[0m\u001b[1;33m,\u001b[0m \u001b[0mcrs\u001b[0m\u001b[1;33m)\u001b[0m\u001b[1;33m\u001b[0m\u001b[1;33m\u001b[0m\u001b[0m\n\u001b[0m\u001b[0;32m    123\u001b[0m             \u001b[1;32mexcept\u001b[0m \u001b[0mTypeError\u001b[0m\u001b[1;33m:\u001b[0m\u001b[1;33m\u001b[0m\u001b[1;33m\u001b[0m\u001b[0m\n\u001b[0;32m    124\u001b[0m                 \u001b[1;32mpass\u001b[0m\u001b[1;33m\u001b[0m\u001b[1;33m\u001b[0m\u001b[0m\n",
      "\u001b[1;32m~\\.conda\\envs\\geo419\\lib\\site-packages\\geopandas\\geodataframe.py\u001b[0m in \u001b[0;36m_ensure_geometry\u001b[1;34m(data, crs)\u001b[0m\n\u001b[0;32m     40\u001b[0m             \u001b[1;32mreturn\u001b[0m \u001b[0mGeoSeries\u001b[0m\u001b[1;33m(\u001b[0m\u001b[0mout\u001b[0m\u001b[1;33m,\u001b[0m \u001b[0mindex\u001b[0m\u001b[1;33m=\u001b[0m\u001b[0mdata\u001b[0m\u001b[1;33m.\u001b[0m\u001b[0mindex\u001b[0m\u001b[1;33m,\u001b[0m \u001b[0mname\u001b[0m\u001b[1;33m=\u001b[0m\u001b[0mdata\u001b[0m\u001b[1;33m.\u001b[0m\u001b[0mname\u001b[0m\u001b[1;33m)\u001b[0m\u001b[1;33m\u001b[0m\u001b[1;33m\u001b[0m\u001b[0m\n\u001b[0;32m     41\u001b[0m         \u001b[1;32melse\u001b[0m\u001b[1;33m:\u001b[0m\u001b[1;33m\u001b[0m\u001b[1;33m\u001b[0m\u001b[0m\n\u001b[1;32m---> 42\u001b[1;33m             \u001b[0mout\u001b[0m \u001b[1;33m=\u001b[0m \u001b[0mfrom_shapely\u001b[0m\u001b[1;33m(\u001b[0m\u001b[0mdata\u001b[0m\u001b[1;33m,\u001b[0m \u001b[0mcrs\u001b[0m\u001b[1;33m=\u001b[0m\u001b[0mcrs\u001b[0m\u001b[1;33m)\u001b[0m\u001b[1;33m\u001b[0m\u001b[1;33m\u001b[0m\u001b[0m\n\u001b[0m\u001b[0;32m     43\u001b[0m             \u001b[1;32mreturn\u001b[0m \u001b[0mout\u001b[0m\u001b[1;33m\u001b[0m\u001b[1;33m\u001b[0m\u001b[0m\n\u001b[0;32m     44\u001b[0m \u001b[1;33m\u001b[0m\u001b[0m\n",
      "\u001b[1;32m~\\.conda\\envs\\geo419\\lib\\site-packages\\geopandas\\array.py\u001b[0m in \u001b[0;36mfrom_shapely\u001b[1;34m(data, crs)\u001b[0m\n\u001b[0;32m    164\u001b[0m \u001b[1;33m\u001b[0m\u001b[0m\n\u001b[0;32m    165\u001b[0m     \"\"\"\n\u001b[1;32m--> 166\u001b[1;33m     \u001b[1;32mreturn\u001b[0m \u001b[0mGeometryArray\u001b[0m\u001b[1;33m(\u001b[0m\u001b[0mvectorized\u001b[0m\u001b[1;33m.\u001b[0m\u001b[0mfrom_shapely\u001b[0m\u001b[1;33m(\u001b[0m\u001b[0mdata\u001b[0m\u001b[1;33m)\u001b[0m\u001b[1;33m,\u001b[0m \u001b[0mcrs\u001b[0m\u001b[1;33m=\u001b[0m\u001b[0mcrs\u001b[0m\u001b[1;33m)\u001b[0m\u001b[1;33m\u001b[0m\u001b[1;33m\u001b[0m\u001b[0m\n\u001b[0m\u001b[0;32m    167\u001b[0m \u001b[1;33m\u001b[0m\u001b[0m\n\u001b[0;32m    168\u001b[0m \u001b[1;33m\u001b[0m\u001b[0m\n",
      "\u001b[1;32m~\\.conda\\envs\\geo419\\lib\\site-packages\\geopandas\\array.py\u001b[0m in \u001b[0;36m__init__\u001b[1;34m(self, data, crs)\u001b[0m\n\u001b[0;32m    279\u001b[0m \u001b[1;33m\u001b[0m\u001b[0m\n\u001b[0;32m    280\u001b[0m         \u001b[0mself\u001b[0m\u001b[1;33m.\u001b[0m\u001b[0m_crs\u001b[0m \u001b[1;33m=\u001b[0m \u001b[1;32mNone\u001b[0m\u001b[1;33m\u001b[0m\u001b[1;33m\u001b[0m\u001b[0m\n\u001b[1;32m--> 281\u001b[1;33m         \u001b[0mself\u001b[0m\u001b[1;33m.\u001b[0m\u001b[0mcrs\u001b[0m \u001b[1;33m=\u001b[0m \u001b[0mcrs\u001b[0m\u001b[1;33m\u001b[0m\u001b[1;33m\u001b[0m\u001b[0m\n\u001b[0m\u001b[0;32m    282\u001b[0m \u001b[1;33m\u001b[0m\u001b[0m\n\u001b[0;32m    283\u001b[0m     \u001b[1;33m@\u001b[0m\u001b[0mproperty\u001b[0m\u001b[1;33m\u001b[0m\u001b[1;33m\u001b[0m\u001b[0m\n",
      "\u001b[1;32m~\\.conda\\envs\\geo419\\lib\\site-packages\\geopandas\\array.py\u001b[0m in \u001b[0;36mcrs\u001b[1;34m(self, value)\u001b[0m\n\u001b[0;32m    298\u001b[0m     \u001b[1;32mdef\u001b[0m \u001b[0mcrs\u001b[0m\u001b[1;33m(\u001b[0m\u001b[0mself\u001b[0m\u001b[1;33m,\u001b[0m \u001b[0mvalue\u001b[0m\u001b[1;33m)\u001b[0m\u001b[1;33m:\u001b[0m\u001b[1;33m\u001b[0m\u001b[1;33m\u001b[0m\u001b[0m\n\u001b[0;32m    299\u001b[0m         \u001b[1;34m\"\"\"Sets the value of the crs\"\"\"\u001b[0m\u001b[1;33m\u001b[0m\u001b[1;33m\u001b[0m\u001b[0m\n\u001b[1;32m--> 300\u001b[1;33m         \u001b[0mself\u001b[0m\u001b[1;33m.\u001b[0m\u001b[0m_crs\u001b[0m \u001b[1;33m=\u001b[0m \u001b[1;32mNone\u001b[0m \u001b[1;32mif\u001b[0m \u001b[1;32mnot\u001b[0m \u001b[0mvalue\u001b[0m \u001b[1;32melse\u001b[0m \u001b[0mCRS\u001b[0m\u001b[1;33m.\u001b[0m\u001b[0mfrom_user_input\u001b[0m\u001b[1;33m(\u001b[0m\u001b[0mvalue\u001b[0m\u001b[1;33m)\u001b[0m\u001b[1;33m\u001b[0m\u001b[1;33m\u001b[0m\u001b[0m\n\u001b[0m\u001b[0;32m    301\u001b[0m \u001b[1;33m\u001b[0m\u001b[0m\n\u001b[0;32m    302\u001b[0m     \u001b[1;32mdef\u001b[0m \u001b[0mcheck_geographic_crs\u001b[0m\u001b[1;33m(\u001b[0m\u001b[0mself\u001b[0m\u001b[1;33m,\u001b[0m \u001b[0mstacklevel\u001b[0m\u001b[1;33m)\u001b[0m\u001b[1;33m:\u001b[0m\u001b[1;33m\u001b[0m\u001b[1;33m\u001b[0m\u001b[0m\n",
      "\u001b[1;32m~\\.conda\\envs\\geo419\\lib\\site-packages\\pyproj\\crs\\crs.py\u001b[0m in \u001b[0;36mfrom_user_input\u001b[1;34m(value, **kwargs)\u001b[0m\n\u001b[0;32m    438\u001b[0m         \u001b[1;32mif\u001b[0m \u001b[0misinstance\u001b[0m\u001b[1;33m(\u001b[0m\u001b[0mvalue\u001b[0m\u001b[1;33m,\u001b[0m \u001b[0mCRS\u001b[0m\u001b[1;33m)\u001b[0m\u001b[1;33m:\u001b[0m\u001b[1;33m\u001b[0m\u001b[1;33m\u001b[0m\u001b[0m\n\u001b[0;32m    439\u001b[0m             \u001b[1;32mreturn\u001b[0m \u001b[0mvalue\u001b[0m\u001b[1;33m\u001b[0m\u001b[1;33m\u001b[0m\u001b[0m\n\u001b[1;32m--> 440\u001b[1;33m         \u001b[1;32mreturn\u001b[0m \u001b[0mCRS\u001b[0m\u001b[1;33m(\u001b[0m\u001b[0mvalue\u001b[0m\u001b[1;33m,\u001b[0m \u001b[1;33m**\u001b[0m\u001b[0mkwargs\u001b[0m\u001b[1;33m)\u001b[0m\u001b[1;33m\u001b[0m\u001b[1;33m\u001b[0m\u001b[0m\n\u001b[0m\u001b[0;32m    441\u001b[0m \u001b[1;33m\u001b[0m\u001b[0m\n\u001b[0;32m    442\u001b[0m     \u001b[1;32mdef\u001b[0m \u001b[0mget_geod\u001b[0m\u001b[1;33m(\u001b[0m\u001b[0mself\u001b[0m\u001b[1;33m)\u001b[0m \u001b[1;33m->\u001b[0m \u001b[0mOptional\u001b[0m\u001b[1;33m[\u001b[0m\u001b[0mGeod\u001b[0m\u001b[1;33m]\u001b[0m\u001b[1;33m:\u001b[0m\u001b[1;33m\u001b[0m\u001b[1;33m\u001b[0m\u001b[0m\n",
      "\u001b[1;32m~\\.conda\\envs\\geo419\\lib\\site-packages\\pyproj\\crs\\crs.py\u001b[0m in \u001b[0;36m__init__\u001b[1;34m(self, projparams, **kwargs)\u001b[0m\n\u001b[0;32m    294\u001b[0m             \u001b[0mprojstring\u001b[0m \u001b[1;33m=\u001b[0m \u001b[0m_prepare_from_string\u001b[0m\u001b[1;33m(\u001b[0m\u001b[1;34m\" \"\u001b[0m\u001b[1;33m.\u001b[0m\u001b[0mjoin\u001b[0m\u001b[1;33m(\u001b[0m\u001b[1;33m(\u001b[0m\u001b[0mprojstring\u001b[0m\u001b[1;33m,\u001b[0m \u001b[0mprojkwargs\u001b[0m\u001b[1;33m)\u001b[0m\u001b[1;33m)\u001b[0m\u001b[1;33m)\u001b[0m\u001b[1;33m\u001b[0m\u001b[1;33m\u001b[0m\u001b[0m\n\u001b[0;32m    295\u001b[0m \u001b[1;33m\u001b[0m\u001b[0m\n\u001b[1;32m--> 296\u001b[1;33m         \u001b[0msuper\u001b[0m\u001b[1;33m(\u001b[0m\u001b[1;33m)\u001b[0m\u001b[1;33m.\u001b[0m\u001b[0m__init__\u001b[0m\u001b[1;33m(\u001b[0m\u001b[0mprojstring\u001b[0m\u001b[1;33m)\u001b[0m\u001b[1;33m\u001b[0m\u001b[1;33m\u001b[0m\u001b[0m\n\u001b[0m\u001b[0;32m    297\u001b[0m \u001b[1;33m\u001b[0m\u001b[0m\n\u001b[0;32m    298\u001b[0m     \u001b[1;33m@\u001b[0m\u001b[0mstaticmethod\u001b[0m\u001b[1;33m\u001b[0m\u001b[1;33m\u001b[0m\u001b[0m\n",
      "\u001b[1;32mpyproj/_crs.pyx\u001b[0m in \u001b[0;36mpyproj._crs._CRS.__init__\u001b[1;34m()\u001b[0m\n",
      "\u001b[1;31mCRSError\u001b[0m: Invalid projection: PROJCS[\"ETRS89 / UTM zone 32N\",GEOGCS[\"ETRS89\",DATUM[\"European_Terrestrial_Reference_System_1989_ensemble\",SPHEROID[\"GRS 1980\",6378137,298.257222101,AUTHORITY[\"EPSG\",\"7019\"]],AUTHORITY[\"EPSG\",\"6258\"]],PRIMEM[\"Greenwich\",0],UNIT[\"Degree\",0.0174532925199433],AUTHORITY[\"EPSG\",\"4258\"]],PROJECTION[\"Transverse_Mercator\"],PARAMETER[\"latitude_of_origin\",0],PARAMETER[\"central_meridian\",9],PARAMETER[\"scale_factor\",0.9996],PARAMETER[\"false_easting\",500000],PARAMETER[\"false_northing\",0],UNIT[\"metre\",1,AUTHORITY[\"EPSG\",\"9001\"]],AXIS[\"Easting\",EAST],AXIS[\"Northing\",NORTH]]: (Internal Proj Error: proj_create: SQLite error on SELECT name, ellipsoid_auth_name, ellipsoid_code, prime_meridian_auth_name, prime_meridian_code, area_of_use_auth_name, area_of_use_code, deprecated FROM geodetic_datum WHERE auth_name = ? AND code = ?: no such column: area_of_use_auth_name)"
     ]
    }
   ],
   "source": [
    "### File choices\n",
    "# 4. Intersection of shapefile with dem tile polygons\n",
    "polygon = geopandas.read_file(shapefile)\n",
    "if dem_year == \"2010-2013\":\n",
    "    grid_path = \"../Data/Stand_2010-2013/DGM2_2010-2013_Erfass-lt-Meta_UTM32-UTM_2014-12-10.shp\"\n",
    "elif dem_year == \"2014-2019\":\n",
    "    grid_path = \"../Data/Stand_2014-2019/DGM1_2014-2019_Erfass-lt-Meta_UTM_2020-04-20--17127.shp\"\n",
    "else:\n",
    "    grid_path = \"../Data/Stand_2020-2025/DGM1_2020-2025_Erfass-lt-Meta_UTM_2021-03--17127.shp\"\n",
    "    \n",
    "grid = geopandas.read_file(grid_path)\n",
    "\n",
    "tiles = []\n",
    "for poly in grid.iterrows():\n",
    "    geom = poly[1].geometry\n",
    "    for poly2 in polygon.iterrows():\n",
    "        geom2 = poly2[1].geometry\n",
    "        \n",
    "        if geom.overlaps(geom2) == True:\n",
    "            tiles.append(poly[1].NAME)\n",
    "\n",
    "# 5. dem tile names\n",
    "tiles \n",
    "\n",
    "# 6. Identifying op tile names\n",
    "#---------------"
   ]
  },
  {
   "cell_type": "code",
   "execution_count": 22,
   "metadata": {},
   "outputs": [],
   "source": [
    "### Download request\n",
    "# 7. Download of dem tiles\n",
    "for tile in tiles:\n",
    "    # creating request url\n",
    "    if dem_format == \"dgm\" or dem_format == \"dom\":\n",
    "        request = \"https://geoportal.geoportal-th.de/hoehendaten/\"+dem_format.upper()+\"/\"+dem_format+\"_\"+dem_year+\"/\"+dem_format+\"1_\"+tile+\"_1_th_\"+dem_year+\".zip\"\n",
    "    elif dem_format == \"las\": \n",
    "        request = \"https://geoportal.geoportal-th.de/hoehendaten/\"+dem_format.upper()+\"/\"+dem_format+\"_\"+dem_year+\"/\"+dem_format+\"_\"+tile+\"_1_th_\"+dem_year+\".zip+\"\n",
    "    \n",
    "    dem_load = requests.get(request)\n",
    "    # download the file to data folder\n",
    "    with open(\"../Data/dem/\"+tile+\".zip\", \"wb\") as file:\n",
    "        file.write(dem_load.content)\n",
    "\n",
    "# 8. Download of op tiles\n",
    "# fragt alle möglichen IDs ab\n",
    "# wenn hinter der ID eine Datei hinterlegt ist, speichert er die ID und den Kachel-Code aus dem Dateinamen zusammen ab\n",
    "# wenn alle Kacheln gefunden wurden, bricht es ab"
   ]
  },
  {
   "cell_type": "code",
   "execution_count": 5,
   "metadata": {},
   "outputs": [],
   "source": [
    "### Mosaicing with custom extent\n",
    "# 9. mosaicing\n",
    "demlist = []\n",
    "for file in os.scandir(\"../Data/dem/\"):\n",
    "    if file.name.endswith(\".xyz\"):\n",
    "        demlist.append(file.path)\n",
    "spatialist.auxil.gdalbuildvrt(demlist, \"DEM.vrt\", options=None, void=True)\n",
    "\n",
    "# 10. clipping with shapefile"
   ]
  },
  {
   "cell_type": "code",
   "execution_count": 2,
   "metadata": {},
   "outputs": [
    {
     "name": "stdout",
     "output_type": "stream",
     "text": [
      "Help on function lol in module __main__:\n",
      "\n",
      "lol()\n",
      "    Diese funtkion macht Sachen\n",
      "\n"
     ]
    }
   ],
   "source": [
    "### Visualisation\n",
    "# 10. load open street map\n",
    "# 11. overlay mosaic"
   ]
  },
  {
   "cell_type": "code",
   "execution_count": 18,
   "metadata": {},
   "outputs": [],
   "source": []
  },
  {
   "cell_type": "code",
   "execution_count": null,
   "metadata": {},
   "outputs": [],
   "source": []
  }
 ],
 "metadata": {
  "kernelspec": {
   "display_name": "Python 3",
   "language": "python",
   "name": "python3"
  },
  "language_info": {
   "codemirror_mode": {
    "name": "ipython",
    "version": 3
   },
   "file_extension": ".py",
   "mimetype": "text/x-python",
   "name": "python",
   "nbconvert_exporter": "python",
   "pygments_lexer": "ipython3",
   "version": "3.8.5"
  }
 },
 "nbformat": 4,
 "nbformat_minor": 4
}
