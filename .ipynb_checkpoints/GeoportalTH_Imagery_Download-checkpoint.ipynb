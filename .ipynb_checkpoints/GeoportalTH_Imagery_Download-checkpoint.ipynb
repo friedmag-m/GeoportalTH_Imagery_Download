{
 "cells": [
  {
   "cell_type": "code",
   "execution_count": null,
   "metadata": {},
   "outputs": [],
   "source": [
    "# Beschreibung & Ersteller etc."
   ]
  },
  {
   "cell_type": "code",
   "execution_count": null,
   "metadata": {},
   "outputs": [],
   "source": [
    "### Download URL original\n",
    "## Höhendaten:\n",
    "# https://geoportal.geoportal-th.de/hoehendaten/DGM/dgm_2014-2019/dgm1_682_5644_1_th_2014-2019.zip?type=dhm1&id=16541&log=682_5644_1x1km&url=%2Fhoehendaten%2FDGM%2Fdgm_2014-2019%2Fdgm1_682_5644_1_th_2014-2019.zip\n",
    "## Orthophotos:\n",
    "# https://geoportal.geoportal-th.de/gaialight-th/_apps/dladownload/download.php?type=op&id=255099&log=202005-32682_5644\n",
    "\n",
    "# gekürzt:\n",
    "# DGM\n",
    "# https://geoportal.geoportal-th.de/hoehendaten/DGM/dgm_2014-2019/dgm1_682_5644_1_th_2014-2019.zip\n",
    "# DOM\n",
    "# https://geoportal.geoportal-th.de/hoehendaten/DOM/dom_2014-2019/dom1_682_5644_1_th_2014-2019.zip\n",
    "# LAS\n",
    "# https://geoportal.geoportal-th.de/hoehendaten/LAS/las_2014-2019/las_682_5644_1_th_2014-2019.zip"
   ]
  },
  {
   "cell_type": "code",
   "execution_count": null,
   "metadata": {},
   "outputs": [],
   "source": [
    "# ID Kachelbenennung\n",
    "# Höhendaten: \n",
    "# 682_5644 -> 682 steht für die West-Ost-Ausrichtung (nach Osten aufsteigend)\n",
    "# 682_5644 -> 5644 steht für die Nord-Süd-Ausrichtung (nach Norden aufsteigend)\n",
    "\n",
    "# Die Kacheln (Position) für Höhendaten und Orthophotos sind identisch"
   ]
  },
  {
   "cell_type": "code",
   "execution_count": 1,
   "metadata": {},
   "outputs": [],
   "source": [
    "# Importblock\n",
    "import gdal\n",
    "import requests\n",
    "import ipyleaflet\n"
   ]
  },
  {
   "cell_type": "code",
   "execution_count": 2,
   "metadata": {},
   "outputs": [],
   "source": [
    "# Auswahlblock Nutzer\n",
    "# 1. Shapefile des Gebietes parat haben\n",
    "# 2. Auswahl der Jahreszahlen der Daten\n",
    "# 3. Auswahl des Datenformats\n"
   ]
  },
  {
   "cell_type": "code",
   "execution_count": null,
   "metadata": {},
   "outputs": [],
   "source": [
    "# Auswahlblock II\n",
    "# 4. Überschneidung des Polygons mit den Kacheln\n",
    "# 5. Identifizierung der einzelnen Kachelnamen"
   ]
  }
 ],
 "metadata": {
  "kernelspec": {
   "display_name": "Python 3",
   "language": "python",
   "name": "python3"
  },
  "language_info": {
   "codemirror_mode": {
    "name": "ipython",
    "version": 3
   },
   "file_extension": ".py",
   "mimetype": "text/x-python",
   "name": "python",
   "nbconvert_exporter": "python",
   "pygments_lexer": "ipython3",
   "version": "3.8.5"
  }
 },
 "nbformat": 4,
 "nbformat_minor": 4
}
