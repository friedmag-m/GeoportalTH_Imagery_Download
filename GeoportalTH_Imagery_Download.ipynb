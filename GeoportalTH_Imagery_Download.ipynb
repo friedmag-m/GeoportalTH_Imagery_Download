{
 "cells": [
  {
   "cell_type": "code",
   "execution_count": 1,
   "metadata": {},
   "outputs": [],
   "source": [
    "########################################################\n",
    "# GEO419 Projekt Nr. 2\n",
    "# Download of Imagery from the Thuringian Geoportal\n",
    "# Marcel Felix & Friederike Metz\n",
    "# from Sept. 2021 to Feb. 2022\n",
    "########################################################"
   ]
  },
  {
   "cell_type": "markdown",
   "metadata": {},
   "source": [
    "# Importblock"
   ]
  },
  {
   "cell_type": "code",
   "execution_count": 1,
   "metadata": {},
   "outputs": [],
   "source": [
    "import os\n",
    "from osgeo import ogr,osr,gdal\n",
    "import geopandas\n",
    "import shapely\n",
    "import zipfile\n",
    "from shapely.geometry import Polygon, LineString, Point\n",
    "import requests\n",
    "import ipyleaflet as ip\n",
    "from ipywidgets import Layout\n",
    "import pandas as pd\n",
    "import utm"
   ]
  },
  {
   "cell_type": "markdown",
   "metadata": {},
   "source": [
    "\n",
    "# User's choices"
   ]
  },
  {
   "cell_type": "code",
   "execution_count": 2,
   "metadata": {},
   "outputs": [],
   "source": [
    "# 1. Please select your shapefile and ID-file here\n",
    "shapefile = \"../Data/shape/shape.shp\"\n",
    "\n",
    "# specify the file with Server-IDs for the grid tiles\n",
    "idfile = \"../Data/idlist.txt\""
   ]
  },
  {
   "cell_type": "code",
   "execution_count": 3,
   "metadata": {},
   "outputs": [],
   "source": [
    "# 2. Please choose your dem-years (2010-2013 / 2014-2019 / 2020-2025)\n",
    "dem_year = \"2014-2019\"\n",
    "\n",
    "if dem_year == \"2010-2013\":\n",
    "    request = \"https://geoportal.geoportal-th.de/hoehendaten/Uebersichten/Stand_2010-2013.zip\"\n",
    "if dem_year == \"2014-2019\":\n",
    "    request = \"https://geoportal.geoportal-th.de/hoehendaten/Uebersichten/Stand_2014-2019.zip\"\n",
    "if dem_year == \"2020-2025\":\n",
    "    request = \"https://geoportal.geoportal-th.de/hoehendaten/Uebersichten/Stand_2020-2025.zip\"\n",
    "    # ^These are the download-links for the dem tile polygons\n",
    "# and your Orthophoto year\n",
    "year = \"2019\"\n",
    "    # unique years are: 1997, 2008, 2010, 2011, 2012, 2013, 2014, 2015, 2016, 2017, 2018, 2019, 2020"
   ]
  },
  {
   "cell_type": "code",
   "execution_count": 4,
   "metadata": {},
   "outputs": [],
   "source": [
    "# Automated DOWNLOAD OF TILE POLYGONS\n",
    "if not os.path.exists(\"../Data/\"):\n",
    "    os.mkdir(\"../Data/\")\n",
    "if os.path.exists(\"../Data/Stand_\"+dem_year) == False:\n",
    "    os.mkdir(\"../Data/Stand_\"+dem_year)\n",
    "\n",
    "gridfile = \"../Data/Stand_\"+dem_year+\"/Stand_\"+dem_year+\".zip\"\n",
    "\n",
    "if os.path.exists(gridfile) == False:\n",
    "    grid_polygons = requests.get(request)\n",
    "    with open(gridfile, \"wb\") as file:\n",
    "            file.write(grid_polygons.content)\n",
    "\n",
    "with zipfile.ZipFile(gridfile, 'r') as zip_ref:\n",
    "    zip_ref.extractall(\"../Data/Stand_\"+dem_year)\n",
    "os.remove(gridfile)\n",
    "            "
   ]
  },
  {
   "cell_type": "code",
   "execution_count": 5,
   "metadata": {},
   "outputs": [],
   "source": [
    "# 3. Please choose your desired file format (dgm / dom / las)\n",
    "dem_format = \"dgm\""
   ]
  },
  {
   "cell_type": "markdown",
   "metadata": {},
   "source": [
    "# Get Tiles "
   ]
  },
  {
   "cell_type": "code",
   "execution_count": 6,
   "metadata": {},
   "outputs": [],
   "source": [
    "# 4. Intersection of shapefile with dem tile polygons\n",
    "polygon = geopandas.read_file(shapefile)\n",
    "if dem_year == \"2010-2013\":\n",
    "    grid_path = \"../Data/Stand_2010-2013/DGM2_2010-2013_Erfass-lt-Meta_UTM32-UTM_2014-12-10.shp\"\n",
    "elif dem_year == \"2014-2019\":\n",
    "    grid_path = \"../Data/Stand_2014-2019/DGM1_2014-2019_Erfass-lt-Meta_UTM_2020-04-20--17127.shp\"\n",
    "else:\n",
    "    grid_path = \"../Data/Stand_2020-2025/DGM1_2020-2025_Erfass-lt-Meta_UTM_2021-03--17127.shp\"\n",
    "    \n",
    "grid = geopandas.read_file(grid_path)\n",
    "\n",
    "# intersect and fill list\n",
    "tiles = []\n",
    "for poly in grid.iterrows():\n",
    "    geom = poly[1].geometry\n",
    "    for poly2 in polygon.iterrows():\n",
    "        geom2 = poly2[1].geometry\n",
    "        \n",
    "        if geom.overlaps(geom2) == True:\n",
    "            tiles.append(poly[1].NAME)\n"
   ]
  },
  {
   "cell_type": "code",
   "execution_count": 7,
   "metadata": {},
   "outputs": [
    {
     "data": {
      "text/plain": [
       "['680_5643', '680_5644', '681_5643', '681_5644']"
      ]
     },
     "execution_count": 7,
     "metadata": {},
     "output_type": "execute_result"
    }
   ],
   "source": [
    "# 5. dem tile names\n",
    "tiles "
   ]
  },
  {
   "cell_type": "markdown",
   "metadata": {},
   "source": [
    "# Download request "
   ]
  },
  {
   "cell_type": "code",
   "execution_count": 9,
   "metadata": {
    "scrolled": true
   },
   "outputs": [],
   "source": [
    "# 6. Download of dem tiles\n",
    "for tile in tiles:\n",
    "    # creating request url\n",
    "    if dem_format == \"dgm\" or dem_format == \"dom\":\n",
    "        request = \"https://geoportal.geoportal-th.de/hoehendaten/\"+dem_format.upper()+\"/\"+dem_format+\"_\"+dem_year+\"/\"+dem_format+\"1_\"+tile+\"_1_th_\"+dem_year+\".zip\"\n",
    "    elif dem_format == \"las\": \n",
    "        request = \"https://geoportal.geoportal-th.de/hoehendaten/\"+dem_format.upper()+\"/\"+dem_format+\"_\"+dem_year+\"/\"+dem_format+\"_\"+tile+\"_1_th_\"+dem_year+\".zip+\"\n",
    "    \n",
    "    dem_load = requests.get(request)\n",
    "    # download the file to data folder\n",
    "    if not os.path.exists(\"../Data/dem/\"):\n",
    "        os.mkdir(\"../Data/dem/\")\n",
    "    current_dem = \"../Data/dem/\"+tile+\".zip\"\n",
    "    demzip = []\n",
    "    demzip.append(current_dem)\n",
    "    with open(current_dem, \"wb\") as file:\n",
    "        file.write(dem_load.content)\n",
    "        \n",
    "    # unzipping\n",
    "    with zipfile.ZipFile(current_dem, 'r') as zip_ref:\n",
    "        zip_ref.extractall(\"../Data/dem/\")\n"
   ]
  },
  {
   "cell_type": "code",
   "execution_count": 19,
   "metadata": {},
   "outputs": [],
   "source": [
    "# 7. Download of op tiles\n",
    "# create data from lookup file\n",
    "lookup = pd.read_csv(idfile, header=0, delimiter=',')\n",
    "\n",
    "idlist = []\n",
    "\n",
    "# filter lookup table by year\n",
    "lookup = lookup[lookup[\"year\"] == int(year)]\n",
    "\n",
    "# tiles from 2018 and earlier are grouped in four; only even numbers for x and y are registered with an ID\n",
    "# therefore we need to make sure, we catch all the tiles inbetween \n",
    "# only the lower left tile out of the four (where x&y are even) has an ID\n",
    "if int(year) <= 2018:\n",
    "    tiles_check = tiles.copy()      # a copy to iterate over while the original is being altered\n",
    "    for tile in tiles_check:\n",
    "        tile_x, tile_y = tile.split(\"_\")\n",
    "        tile_x, tile_y = int(tile_x), int(tile_y)\n",
    "        \n",
    "        if ((tile_x & 1) + (tile_y & 1)) == 1:              # if either x or y is uneven, then correct their coordinates to find the matching ID\n",
    "            if tile_x & 1 == 1:\n",
    "                tile_x, tile_y = str(tile_x-1), str(tile_y)\n",
    "            elif tile_y & 1 == 1:\n",
    "                tile_y, tile_x = str(tile_y-1), str(tile_x)\n",
    "                \n",
    "        elif (tile_x & 1) + (tile_y & 1) == 2:              # if both are uneven\n",
    "            tile_x, tile_y = str(tile_x-1), str(tile_y-1)\n",
    "        \n",
    "        else: continue\n",
    "        \n",
    "        # first make sure, the \"wrong\" tile is dropped from list    \n",
    "        tiles.remove(tile)  \n",
    "        # at last, append the newly found tile back into the list\n",
    "        new_tile = tile_x + \"_\" + tile_y\n",
    "        if not new_tile in tiles:  # but only if it's not already there!\n",
    "            tiles.append(new_tile)\n",
    "\n",
    "# now find the matching IDs\n",
    "for tile in tiles:\n",
    "    tile_match = lookup[lookup[\"tilename\"] == tile]\n",
    "    id_match = tile_match.values[0][0] # first row, first column\n",
    "    idlist.append(id_match)\n",
    "\n",
    "# download the identified files\n",
    "for tile_id in idlist:\n",
    "    # create dir if necessary\n",
    "    if os.path.exists(\"../Data/op/\") == False:\n",
    "        os.mkdir(\"../Data/op/\")\n",
    "    \n",
    "    # download the file\n",
    "    current_op = \"../Data/op/\" + str(tile_id) + \".zip\"\n",
    "    # if already there, unzip and then continue with the next tile\n",
    "    if os.path.exists(current_op):\n",
    "        with zipfile.ZipFile(current_op, 'r') as zip_ref:\n",
    "            zip_ref.extractall(\"../Data/op/\")\n",
    "        continue\n",
    "    \n",
    "    op_load = requests.get(\"https://geoportal.geoportal-th.de/gaialight-th/_apps/dladownload/download.php?type=op&id=\" + str(tile_id))\n",
    "    op_zip = []\n",
    "    op_zip.append(current_op)\n",
    "    \n",
    "    # safe to file\n",
    "    with open(current_op, \"wb\") as file:\n",
    "        file.write(op_load.content)\n",
    "\n",
    "    with zipfile.ZipFile(current_op, 'r') as zip_ref:\n",
    "        zip_ref.extractall(\"../Data/op/\")"
   ]
  },
  {
   "cell_type": "markdown",
   "metadata": {},
   "source": [
    "\n",
    "# Converting XYZ to tif and Merging DEMs and OP \n"
   ]
  },
  {
   "cell_type": "code",
   "execution_count": 20,
   "metadata": {},
   "outputs": [
    {
     "data": {
      "text/plain": [
       "<osgeo.gdal.Dataset; proxy of <Swig Object of type 'GDALDatasetShadow *' at 0x0000019510084CC0> >"
      ]
     },
     "execution_count": 20,
     "metadata": {},
     "output_type": "execute_result"
    }
   ],
   "source": [
    "# 8. Conversion & Merge of DEM\n",
    "\n",
    "# find the DEM xyz files\n",
    "demlist = []\n",
    "for file in os.scandir(\"../Data/dem/\"):\n",
    "    if file.name.endswith(\".xyz\"):\n",
    "        demlist.append(file.path)\n",
    "\n",
    "# convert to tif\n",
    "for xyz in demlist:\n",
    "    outname = xyz.replace(\".xyz\",\"\")\n",
    "    gdal.Translate(outname + \".tif\", xyz, outputSRS=\"EPSG:25832\")\n",
    "\n",
    "# merging of DEMs\n",
    "# build virtual raster and convert to geotiff\n",
    "demlist = [file.replace(\".xyz\",\".tif\") for file in demlist]\n",
    "vrt = gdal.BuildVRT(\"../Data/dem/merged.vrt\", demlist)\n",
    "gdal.Translate(\"../Data/dem/mergedDEM.tif\", vrt, xRes = 1, yRes = -1)\n",
    "   "
   ]
  },
  {
   "cell_type": "code",
   "execution_count": 21,
   "metadata": {},
   "outputs": [
    {
     "data": {
      "text/plain": [
       "<osgeo.gdal.Dataset; proxy of <Swig Object of type 'GDALDatasetShadow *' at 0x0000019510092120> >"
      ]
     },
     "execution_count": 21,
     "metadata": {},
     "output_type": "execute_result"
    }
   ],
   "source": [
    "# 9.Merge of OP\n",
    "\n",
    "# find the OP files\n",
    "oplist = []\n",
    "for file in os.scandir(\"../Data/op/\"):\n",
    "    if file.name.endswith(\".tif\"):\n",
    "        oplist.append(file.path)\n",
    "\n",
    "# merging of OPs\n",
    "vrt = gdal.BuildVRT(\"../Data/dem/merged.vrt\", oplist)\n",
    "gdal.Translate(\"../Data/op/mergedOP.tif\", vrt, xRes = 0.2, yRes = -0.2)"
   ]
  },
  {
   "cell_type": "markdown",
   "metadata": {},
   "source": [
    "\n",
    "# Clipping all to custom extent \n"
   ]
  },
  {
   "cell_type": "code",
   "execution_count": 22,
   "metadata": {},
   "outputs": [],
   "source": [
    "# 10. clipping with shapefile\n",
    "\n",
    "inraster = \"../Data/op/mergedOP.tif\"\n",
    "clipraster = \"../Data/op/mergedOP_clip.tif\"\n",
    "options = {\"cutlineDSName\":shapefile, \"cropToCutline\":True, \"dstNodata\":0, \"dstSRS\":\"EPSG:25832\"}\n",
    "result = gdal.Warp(clipraster, inraster, **options)\n",
    "result = None\n",
    "\n",
    "inraster = \"../Data/dem/mergedDEM.tif\"\n",
    "clipraster = \"../Data/dem/mergedDEM_clip.tif\"\n",
    "options = {\"cutlineDSName\":shapefile, \"cropToCutline\":True, \"dstNodata\":0, \"dstSRS\":\"EPSG:25832\"}\n",
    "result = gdal.Warp(clipraster, inraster, **options)\n",
    "result = None"
   ]
  },
  {
   "cell_type": "markdown",
   "metadata": {},
   "source": [
    "# Visualisation \n"
   ]
  },
  {
   "cell_type": "code",
   "execution_count": 33,
   "metadata": {
    "scrolled": true
   },
   "outputs": [],
   "source": [
    "# 11. initialize map and load open street map\n",
    "\n",
    "# convert AOI centroid utm to latlon\n",
    "centering = utm.to_latlon(polygon.centroid.x[0], polygon.centroid.y[0], 32, 'U')\n",
    "\n",
    "# add a OSM basemap\n",
    "map = ip.Map(basemap = ip.basemaps.CartoDB.Positron, center = (centering[0], centering[1]), \n",
    "             zoom = 12, layout = Layout(width = '100%', height = '700px'))\n",
    "\n",
    "wms = ip.WMSLayer(url = 'https://tile.openstreetmap.org/${z}/${x}/${y}.png', format = 'image/png', transparent = True)\n",
    "map.add_layer(wms)\n",
    "\n",
    "# add a marker\n",
    "map_marker = ip.Marker(location=(centering[0], centering[1]))\n",
    "map.add_layer(map_marker)"
   ]
  },
  {
   "cell_type": "code",
   "execution_count": 29,
   "metadata": {},
   "outputs": [],
   "source": [
    "# 12. overlay Data\n",
    "# adding the AOI polygon \n",
    "map_poly = polygon.to_crs(4326)\n",
    "map_polygon = ip.GeoData(geo_dataframe = map_poly,\n",
    "                   style = {'color': 'black', 'fillColor': '#3366cc', 'opacity':0.4, 'weight':1.9, 'dashArray':'2', 'fillOpacity':0.05},\n",
    "                   hover_style = {'fillColor': 'red' , 'fillOpacity': 0.05},\n",
    "                   name = 'AOE')\n",
    "map.add_layer(map_polygon)\n",
    "\n",
    "\n"
   ]
  },
  {
   "cell_type": "code",
   "execution_count": 25,
   "metadata": {},
   "outputs": [
    {
     "data": {
      "text/plain": [
       "<osgeo.gdal.Dataset; proxy of <Swig Object of type 'GDALDatasetShadow *' at 0x0000019510084AE0> >"
      ]
     },
     "execution_count": 25,
     "metadata": {},
     "output_type": "execute_result"
    }
   ],
   "source": [
    "# create OP and DEM layers to show\n",
    "\n",
    "gdal.Translate(\"../Data/op/mergedOP_clip.png\", \"../Data/op/mergedOP_clip.tif\", outputSRS=\"EPSG:4326\")\n",
    "gdal.Translate(\"../Data/dem/mergedDEM_clip.png\", \"../Data/dem/mergedDEM_clip.tif\", outputSRS=\"EPSG:4326\")\n"
   ]
  },
  {
   "cell_type": "code",
   "execution_count": 36,
   "metadata": {},
   "outputs": [],
   "source": [
    "# adding an OP layer\n",
    "# !!! Adjust the access port (e.g. 8888) to what it says in your browser\n",
    "op_raster = ip.ImageOverlay(\n",
    "    url = \"http://localhost:8889/tree/Abschlussaufgabe/Data/op/mergedOP_clip.png\", #adjust url if necessary\n",
    "    bounds = ((map_poly.bounds.miny[0], map_poly.bounds.minx[0]) , (map_poly.bounds.maxy[0],map_poly.bounds.maxx[0])) #low left & upper right\n",
    ")\n",
    "map.add_layer(op_raster)"
   ]
  },
  {
   "cell_type": "code",
   "execution_count": 32,
   "metadata": {},
   "outputs": [],
   "source": [
    "# adding an DEM layer\n",
    "# !!! Adjust the access port (e.g. 8888) to what it says in your browser\n",
    "dem_raster = ip.ImageOverlay(\n",
    "    url = \"http://localhost:8889/tree/Abschlussaufgabe/Data/dem/mergedDEM_clip.png\", #adjust url if necessary\n",
    "    bounds = ((map_poly.bounds.miny[0], map_poly.bounds.minx[0]) , (map_poly.bounds.maxy[0],map_poly.bounds.maxx[0])) #low left & upper right\n",
    ")\n",
    "map.add_layer(dem_raster)"
   ]
  },
  {
   "cell_type": "code",
   "execution_count": 35,
   "metadata": {},
   "outputs": [
    {
     "data": {
      "application/vnd.jupyter.widget-view+json": {
       "model_id": "37773deb0306447e84f945d972644a16",
       "version_major": 2,
       "version_minor": 0
      },
      "text/plain": [
       "Map(center=[50.92066794243591, 11.575571121873141], controls=(ZoomControl(options=['position', 'zoom_in_text',…"
      ]
     },
     "metadata": {},
     "output_type": "display_data"
    }
   ],
   "source": [
    "#show Map\n",
    "map"
   ]
  },
  {
   "cell_type": "code",
   "execution_count": null,
   "metadata": {},
   "outputs": [],
   "source": []
  }
 ],
 "metadata": {
  "kernelspec": {
   "display_name": "Python 3 (ipykernel)",
   "language": "python",
   "name": "python3"
  },
  "language_info": {
   "codemirror_mode": {
    "name": "ipython",
    "version": 3
   },
   "file_extension": ".py",
   "mimetype": "text/x-python",
   "name": "python",
   "nbconvert_exporter": "python",
   "pygments_lexer": "ipython3",
   "version": "3.8.12"
  }
 },
 "nbformat": 4,
 "nbformat_minor": 4
}
